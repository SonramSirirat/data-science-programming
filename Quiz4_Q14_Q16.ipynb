{
  "nbformat": 4,
  "nbformat_minor": 0,
  "metadata": {
    "colab": {
      "name": "Quiz4_Q14-Q16.ipynb",
      "provenance": [],
      "authorship_tag": "ABX9TyPuWpDwE/erIqGOcZ1cE7UE",
      "include_colab_link": true
    },
    "kernelspec": {
      "name": "python3",
      "display_name": "Python 3"
    },
    "language_info": {
      "name": "python"
    }
  },
  "cells": [
    {
      "cell_type": "markdown",
      "metadata": {
        "id": "view-in-github",
        "colab_type": "text"
      },
      "source": [
        "<a href=\"https://colab.research.google.com/github/SonramSirirat/data-science-programming/blob/main/Quiz4_Q14_Q16.ipynb\" target=\"_parent\"><img src=\"https://colab.research.google.com/assets/colab-badge.svg\" alt=\"Open In Colab\"/></a>"
      ]
    },
    {
      "cell_type": "markdown",
      "metadata": {
        "id": "Tf8j6M_osypH"
      },
      "source": [
        "# Quiz4:\n",
        "1. Q14: Try this (ppt. 37)\n",
        "\n",
        "    import numpy as np\n",
        "\n",
        "    form scipy.linalg import solve"
      ]
    },
    {
      "cell_type": "code",
      "metadata": {
        "id": "9Tt2ttAtswsR",
        "colab": {
          "base_uri": "https://localhost:8080/"
        },
        "outputId": "7af833fa-fc1b-423c-91eb-4b4953b58faa"
      },
      "source": [
        "import numpy as np\n",
        "from scipy.linalg import solve\n",
        "A = np.array([[1., 2.], [3., 4]])\n",
        "b = np.array([1., 4.])\n",
        "x = solve(A, b)\n",
        "print(x)"
      ],
      "execution_count": null,
      "outputs": [
        {
          "output_type": "stream",
          "text": [
            "[ 2.  -0.5]\n"
          ],
          "name": "stdout"
        }
      ]
    },
    {
      "cell_type": "markdown",
      "metadata": {
        "id": "A8tEAyIktNNz"
      },
      "source": [
        "2. Q15: Create a Matrix X4X3 (ppt. 41)\n",
        "\n",
        "\\begin{bmatrix}\n",
        "1 & 2 & 3\\\\\n",
        "4 & 5 & 6\\\\\n",
        "7 & 8 & 9\\\\\n",
        "10 & 11 & 12\n",
        "\\end{bmatrix}\n",
        "\n",
        "    1. Construst this matrix in Python using the function array. \n",
        "    what is result of the expression M[2, :]?  \n",
        "    What is the result of the similar expression M[2: ]?"
      ]
    },
    {
      "cell_type": "code",
      "metadata": {
        "id": "a22nCJN3ucTP",
        "colab": {
          "base_uri": "https://localhost:8080/"
        },
        "outputId": "f2f6bd47-cd50-4b14-a8f1-56ee8d76c4fb"
      },
      "source": [
        "import numpy as np\n",
        "M = np.array([[1, 2, 3], [4, 5, 6], [7, 8, 9], [10, 11, 12]])\n",
        "print(M)\n",
        "print(M[2, :]) # 3rd row [7 8 9]\n",
        "print(M[2: ]) # 3rd and 4th row [7 8 9] [10 11 12]"
      ],
      "execution_count": 33,
      "outputs": [
        {
          "output_type": "stream",
          "text": [
            "[[ 1  2  3]\n",
            " [ 4  5  6]\n",
            " [ 7  8  9]\n",
            " [10 11 12]]\n",
            "[7 8 9]\n",
            "[[ 7  8  9]\n",
            " [10 11 12]]\n"
          ],
          "name": "stdout"
        }
      ]
    },
    {
      "cell_type": "markdown",
      "metadata": {
        "id": "P8F47BlBuJPP"
      },
      "source": [
        "3. Q16: Create Matrix Aij\n",
        "\n",
        "    Aij\n",
        "    1. 0 if i < j and j! = m\n",
        "    2. 1 if i = j or j = m\n",
        "    3. -1 otherwise"
      ]
    },
    {
      "cell_type": "code",
      "metadata": {
        "id": "cVq23KJtudB4",
        "colab": {
          "base_uri": "https://localhost:8080/"
        },
        "outputId": "46bc5d0a-d4ea-4901-991f-c0591914b4e8"
      },
      "source": [
        "import numpy as np\n",
        "A = np.array([[1, 2, 3], [4, 5, 6], [7, 8, 9]])\n",
        "print(A)"
      ],
      "execution_count": 79,
      "outputs": [
        {
          "output_type": "stream",
          "text": [
            "[[1 2 3]\n",
            " [4 5 6]\n",
            " [7 8 9]]\n"
          ],
          "name": "stdout"
        }
      ]
    }
  ]
}