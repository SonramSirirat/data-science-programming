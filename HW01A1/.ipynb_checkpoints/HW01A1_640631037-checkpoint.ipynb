{
 "cells": [
  {
   "cell_type": "markdown",
   "metadata": {
    "colab_type": "text",
    "id": "view-in-github"
   },
   "source": [
    "<a href=\"https://colab.research.google.com/github/SonramSirirat/data-science-programming/blob/main/Homework01_640631037.ipynb\" target=\"_parent\"><img src=\"https://colab.research.google.com/assets/colab-badge.svg\" alt=\"Open In Colab\"/></a>"
   ]
  },
  {
   "cell_type": "markdown",
   "metadata": {
    "id": "YgEKQe2oM2SL"
   },
   "source": [
    "# Homework 01\n",
    "**Write the python program : \"Take (x) sticks from the pile\"** 🍡\n",
    "\n",
    "*   There are N sticks in the pile.\n",
    "*   You are the player to take (x) sticks from the pile.\n",
    "*   The number of sticks (x) at each time you can take must be <= 2.\n",
    "*   Loop until there are no stick in the pile.\n",
    "*   Display how many times you take the stick out.\n",
    "\n",
    "**Test Case:**\n",
    "\n",
    "How many sticks (N) in the pile: 3\n",
    "\n",
    "There are 3 sticks in the pile.\n",
    "\n",
    "What is your name: Somchai\n",
    "\n",
    "Somchai, how many sticks you will take (1 or 2): 2\n",
    "\n",
    "There are 1 sticks in the pile.\n",
    "\n",
    "Somchai, how many sticks you will take (1 or 2): 3\n",
    "\n",
    "No you cannot take more than 2 sticks!\n",
    "\n",
    "Somchai, how many sticks you will take (1 or 2): -1\n",
    "\n",
    "No you cannot take less than 1 stick!\n",
    "\n",
    "Somchai, how many sticks you will take (1 or 2): 2\n",
    "\n",
    "There are no enough sticks to take!\n",
    "\n",
    "Somchai, how many sticks you will take (1 or 2): 1\n",
    "\n",
    "OK. There is no stick left in the pile. \n",
    "\n",
    "You spent 2 times.\n",
    "\n",
    "\n",
    "\n",
    "\n",
    "\n",
    "\n"
   ]
  },
  {
   "cell_type": "code",
   "execution_count": 140,
   "metadata": {
    "colab": {
     "base_uri": "https://localhost:8080/"
    },
    "id": "_jBSnYEWN64W",
    "outputId": "aa3554fc-9097-4a48-e556-97ea6479493b"
   },
   "outputs": [
    {
     "name": "stdout",
     "output_type": "stream",
     "text": [
      "What is your name😃: Somchai\n",
      "How many sticks (N) in the pile🍡: 3\n",
      "There are 3 sticks in the pile.🍡\n",
      "Somchai, How many sticks you will take (1️⃣ or 2️⃣): 2\n",
      "There are 1 sticks in the pile.🍡\n",
      "Somchai, How many sticks you will take (1️⃣ or 2️⃣): 3\n",
      "No you cannot take more than 2 sticks❗\n",
      "Somchai, How many sticks you will take (1️⃣ or 2️⃣): -1\n",
      "No you cannot take less then 1 stick❗\n",
      "Somchai, How many sticks you will take (1️⃣ or 2️⃣): 2\n",
      "There are no enough sticks to take😢\n",
      "Somchai, How many sticks you will take (1️⃣ or 2️⃣): 1\n",
      "There are 0 sticks in the pile.🍡\n",
      "OK. There is no stick left in the pile.🎉\n",
      "You spent 2 times.⏲\n"
     ]
    }
   ],
   "source": [
    "# Ask player's name\n",
    "name = str(input(\"What is your name😃: \"))\n",
    "\n",
    "# Ask number of sticks in pile\n",
    "stick = int(input(\"How many sticks (N) in the pile🍡: \"))\n",
    "print(\"There are\", stick, \"sticks in the pile.🍡\")\n",
    "# Set time\n",
    "times = 0\n",
    "\n",
    "# Check if stick more than 0.\n",
    "while stick > 0:\n",
    "  # Ask player how many to take the stick\n",
    "  take = int(input(name + \", How many sticks you will take (1️⃣ or 2️⃣): \"))\n",
    "  if take <= 0: # If take less than 1\n",
    "    print(\"No you cannot take less then 1 stick❗\")\n",
    "  elif take >= 3: # If take greater than 2\n",
    "    print(\"No you cannot take more than 2 sticks❗\")\n",
    "  elif stick < take: # If number of stick less than number of take\n",
    "    print(\"There are no enough sticks to take😢\")\n",
    "  else: # If correctly\n",
    "    stick = stick - take\n",
    "    times += 1\n",
    "    print(\"There are\", stick, \"sticks in the pile.🍡\")\n",
    "print(\"OK. There is no stick left in the pile.🎉\")\n",
    "print(\"You spent\", times, \"times.⏲\")"
   ]
  }
 ],
 "metadata": {
  "colab": {
   "authorship_tag": "ABX9TyNi6dKfnlyjrDMqasnHiF9G",
   "collapsed_sections": [],
   "include_colab_link": true,
   "name": "Homework01-640631037.ipynb",
   "provenance": []
  },
  "kernelspec": {
   "display_name": "Python 3",
   "language": "python",
   "name": "python3"
  },
  "language_info": {
   "codemirror_mode": {
    "name": "ipython",
    "version": 3
   },
   "file_extension": ".py",
   "mimetype": "text/x-python",
   "name": "python",
   "nbconvert_exporter": "python",
   "pygments_lexer": "ipython3",
   "version": "3.8.8"
  }
 },
 "nbformat": 4,
 "nbformat_minor": 1
}
