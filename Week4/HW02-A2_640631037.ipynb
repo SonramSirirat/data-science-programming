{
  "nbformat": 4,
  "nbformat_minor": 0,
  "metadata": {
    "colab": {
      "name": "Homework01-640631037.ipynb",
      "provenance": [],
      "collapsed_sections": [],
      "authorship_tag": "ABX9TyNi6dKfnlyjrDMqasnHiF9G",
      "include_colab_link": true
    },
    "kernelspec": {
      "name": "python3",
      "display_name": "Python 3.8.8 64-bit ('base': conda)"
    },
    "language_info": {
      "name": "python",
      "version": "3.8.8"
    },
    "interpreter": {
      "hash": "cef9e06bb236b2a8629b07e87a04b187b952a0f661eff5533360a155783f0c33"
    }
  },
  "cells": [
    {
      "cell_type": "markdown",
      "metadata": {
        "id": "YgEKQe2oM2SL"
      },
      "source": [
        "# Homework 02\n",
        "**Make it the GAME! : \"Take (x) sticks from the pile\"** 🍡\n",
        "\n",
        "*   👨‍🦰You play as Player1.\n",
        "*   🆚🤖Python plays as Player2.\n",
        "*   There are N sticks in the pile.\n",
        "*   Each player taks (x) stick from the pile.\n",
        "*   The number of sticks (x) at each time you can take must be <= 2.\n",
        "*   Loop until there are no stick in the pile\n",
        "*   **The player that take the last stick will lose.😥**\n",
        "\n",
        "*Make the Python player smart or play randomly pick (1 or 2 sticks) from the pile.*\n",
        "\n",
        "**Test Case:**\n",
        "\n",
        "1. How many sticks (N) in the pile: 5\n",
        "2. There are 5 sticks in the pile.\n",
        "3. What is your name: Somchai\n",
        "4. Somchai, How many sticks you will take (1 or 2): 2\n",
        "5. There are 3 stick in the pile.\n",
        "6. I, smart computer, takes: 2\n",
        "7. There is 1 stick in the pile\n",
        "8. Somchai, How many sticks you will take(1 or 2): 1\n",
        "9. Somchai, Take the last stick.\n",
        "10. I, smart computer, Win!!!\n",
        "\n",
        "**Test Case:**\n",
        "\n",
        "1. How many sticks (N) in the pile: 5\n",
        "2. There are 5 sticks in the pile.\n",
        "3. What is your name: Somchai\n",
        "4. Somchai, How many sticks you will take(1 or 2): 1\n",
        "5. There are 4 stick in the pile.\n",
        "6. I, smart computer, take: 2\n",
        "7. There are 2 sticks in the pile\n",
        "8. Somchai, How many sticks you will take (1 or 2): 1\n",
        "9. There is 1 stick in the pile\n",
        "10. I, smart computer, takes the last stick.\n",
        "11. Somchai Win!!! (I, smart computer, am sad T_T)\n",
        "\n",
        "**Hint:**\n",
        "\n",
        "```python\n",
        "import random\n",
        "\n",
        "for in range(10):\n",
        "    print(random.randint(1, 2))\n",
        "```\n",
        "\n",
        "\n",
        "\n",
        "\n",
        "\n"
      ]
    },
    {
      "source": [
        "import random\n",
        "\n",
        "# for i in range(10):\n",
        "#   print (random.randint(1, 2))\n",
        "\n",
        "def stickInPile():\n",
        "  # Ask number of sticks in pile\n",
        "  stick = int(input(\"How many sticks (N) in the pile🍡: \"))\n",
        "  print(\"There are\", stick, \"sticks in the pile.🍡\")\n",
        "  # Ask player's name\n",
        "  name = str(input(\"What is your name😃: \"))\n",
        "  # Set times\n",
        "  times = 0\n",
        "\n",
        "  # Check if stick more than 0.\n",
        "  while stick > 0:\n",
        "    # Ask player how many to take the stick\n",
        "    take = int(input(name + \", How many sticks you will take (1️⃣ or 2️⃣): \"))\n",
        "    if take <= 0: # If take less than 1\n",
        "      print(\"No you cannot take less then 1 stick❗\")\n",
        "    elif take >= 3: # If take greater than 2\n",
        "      print(\"No you cannot take more than 2 sticks❗\")\n",
        "    elif stick < take: # If number of stick less than number of take\n",
        "      print(\"There are no enough sticks to take😮\")\n",
        "    else: # If correctly\n",
        "      stick = stick - take\n",
        "      times += 1\n",
        "      print(\"There are\", stick, \"sticks in the pile.🍡\")\n",
        "  \n",
        "  print(\"OK. There is no stick left in the pile.🎉\")\n",
        "  print(\"You spent\", times, \"times.⏲\")\n",
        "\n",
        "stickInPile()"
      ],
      "cell_type": "code",
      "metadata": {
        "colab": {
          "base_uri": "https://localhost:8080/"
        },
        "id": "_jBSnYEWN64W",
        "outputId": "aa3554fc-9097-4a48-e556-97ea6479493b"
      },
      "execution_count": null,
      "outputs": []
    },
    {
      "cell_type": "code",
      "execution_count": 15,
      "metadata": {},
      "outputs": [
        {
          "output_type": "error",
          "ename": "NameError",
          "evalue": "name 'stick' is not defined",
          "traceback": [
            "\u001b[1;31m---------------------------------------------------------------------------\u001b[0m",
            "\u001b[1;31mNameError\u001b[0m                                 Traceback (most recent call last)",
            "\u001b[1;32m<ipython-input-15-6b4d244d18de>\u001b[0m in \u001b[0;36m<module>\u001b[1;34m\u001b[0m\n\u001b[0;32m      9\u001b[0m     \u001b[1;32mreturn\u001b[0m \u001b[0mstick\u001b[0m\u001b[1;33m,\u001b[0m \u001b[0mname\u001b[0m\u001b[1;33m,\u001b[0m \u001b[0mtimes\u001b[0m\u001b[1;33m\u001b[0m\u001b[1;33m\u001b[0m\u001b[0m\n\u001b[0;32m     10\u001b[0m \u001b[1;33m\u001b[0m\u001b[0m\n\u001b[1;32m---> 11\u001b[1;33m \u001b[0mprint\u001b[0m\u001b[1;33m(\u001b[0m\u001b[0mstick\u001b[0m\u001b[1;33m,\u001b[0m \u001b[0mname\u001b[0m\u001b[1;33m,\u001b[0m \u001b[0mtimes\u001b[0m\u001b[1;33m)\u001b[0m\u001b[1;33m\u001b[0m\u001b[1;33m\u001b[0m\u001b[0m\n\u001b[0m",
            "\u001b[1;31mNameError\u001b[0m: name 'stick' is not defined"
          ]
        }
      ],
      "source": [
        "def SetGamePlay():\n",
        "    # Ask number of sticks in pile\n",
        "    stick = int(input(\"How many sticks (N) in the pile🍡: \"))\n",
        "    print(\"There are\", stick, \"sticks in the pile.🍡\")\n",
        "    # Ask player's name\n",
        "    name = str(input(\"What is your name😃: \"))\n",
        "    # Set times\n",
        "    times = 0\n",
        "    return stick, name, times\n",
        "\n",
        "print(stick, name, times)"
      ]
    },
    {
      "cell_type": "code",
      "execution_count": null,
      "metadata": {},
      "outputs": [],
      "source": []
    }
  ]
}