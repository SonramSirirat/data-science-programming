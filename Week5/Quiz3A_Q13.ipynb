{
  "cells": [
    {
      "cell_type": "markdown",
      "metadata": {
        "colab_type": "text",
        "id": "view-in-github"
      },
      "source": [
        "<a href=\"https://colab.research.google.com/github/SonramSirirat/data-science-programming/blob/main/Quiz3A_Q13.ipynb\" target=\"_parent\"><img src=\"https://colab.research.google.com/assets/colab-badge.svg\" alt=\"Open In Colab\"/></a>"
      ]
    },
    {
      "cell_type": "markdown",
      "metadata": {
        "id": "7Ystf5Z752gh"
      },
      "source": [
        "# Quiz 13\n",
        "\n",
        "Exercises"
      ]
    },
    {
      "cell_type": "markdown",
      "metadata": {
        "id": "hxv9Wpbb58x3"
      },
      "source": [
        "Ex. 1 Execute the following statements:"
      ]
    },
    {
      "cell_type": "code",
      "execution_count": 1,
      "metadata": {
        "id": "PUCZUDGD57k-"
      },
      "outputs": [],
      "source": [
        "L = [1, 3]\n",
        "# L\n",
        "L3 = 3 * L\n",
        "# L3"
      ]
    },
    {
      "cell_type": "markdown",
      "metadata": {
        "id": "esFfOTZoCLJR"
      },
      "source": [
        "1. What is the contents of L3?"
      ]
    },
    {
      "cell_type": "code",
      "execution_count": 2,
      "metadata": {
        "colab": {
          "base_uri": "https://localhost:8080/"
        },
        "id": "CJ9ZWiO3CIpU",
        "outputId": "a680bc14-2a6e-4ebb-e233-6cad96e678e3"
      },
      "outputs": [
        {
          "data": {
            "text/plain": [
              "[1, 3, 1, 3, 1, 3]"
            ]
          },
          "execution_count": 2,
          "metadata": {},
          "output_type": "execute_result"
        }
      ],
      "source": [
        "L3"
      ]
    },
    {
      "cell_type": "markdown",
      "metadata": {
        "id": "wwCP_ao9CUyg"
      },
      "source": [
        "2. Try to predic the outcome of the following commands:\n",
        "\n",
        "```\n",
        "L3[0]\n",
        "L3[-1]\n",
        "L3[10]\n",
        "```\n"
      ]
    },
    {
      "cell_type": "markdown",
      "metadata": {
        "id": "mQbmWOgQEoIC"
      },
      "source": [
        "Answer: \n",
        "\n",
        "*   1\n",
        "*   3\n",
        "*   No index 10\n",
        "\n"
      ]
    },
    {
      "cell_type": "markdown",
      "metadata": {
        "id": "R0WPlh6AB6Fb"
      },
      "source": [
        "\n",
        "3. What does the following command do?\n",
        "\n",
        "`L4 = [k ** 2 for k in L3]`"
      ]
    },
    {
      "cell_type": "code",
      "execution_count": 3,
      "metadata": {
        "colab": {
          "base_uri": "https://localhost:8080/"
        },
        "id": "GMDgtCmJDsA3",
        "outputId": "9c116e0f-ac37-4aa6-d7b7-57039a7e12e9"
      },
      "outputs": [
        {
          "data": {
            "text/plain": [
              "[1, 9, 1, 9, 1, 9]"
            ]
          },
          "execution_count": 3,
          "metadata": {},
          "output_type": "execute_result"
        }
      ],
      "source": [
        "L4 = [k ** 2 for k in L3]\n",
        "L4"
      ]
    },
    {
      "cell_type": "markdown",
      "metadata": {
        "id": "4no8ODWQD4vs"
      },
      "source": [
        "Answer: Loop in each number of L3 members then power by 2 for each number"
      ]
    },
    {
      "cell_type": "markdown",
      "metadata": {
        "id": "YBfmzqEfDqsF"
      },
      "source": [
        "4. Concatenate L3 and L4 to a new list L5."
      ]
    },
    {
      "cell_type": "code",
      "execution_count": 4,
      "metadata": {
        "colab": {
          "base_uri": "https://localhost:8080/"
        },
        "id": "FvHsE83fEZq0",
        "outputId": "189e3afa-015d-4b65-9cbe-82ced9f17c74"
      },
      "outputs": [
        {
          "data": {
            "text/plain": [
              "[1, 3, 1, 3, 1, 3, 1, 9, 1, 9, 1, 9]"
            ]
          },
          "execution_count": 4,
          "metadata": {},
          "output_type": "execute_result"
        }
      ],
      "source": [
        "L5 = L3 + L4\n",
        "L5"
      ]
    }
  ],
  "metadata": {
    "colab": {
      "authorship_tag": "ABX9TyNqgEAWH3JH8NJebw5qG+uW",
      "include_colab_link": true,
      "name": "Quiz3A: Q13",
      "provenance": []
    },
    "kernelspec": {
      "display_name": "Python 3",
      "name": "python3"
    },
    "language_info": {
      "name": "python"
    }
  },
  "nbformat": 4,
  "nbformat_minor": 0
}