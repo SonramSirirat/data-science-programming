{
  "nbformat": 4,
  "nbformat_minor": 0,
  "metadata": {
    "colab": {
      "name": "Quiz3A: Q13",
      "provenance": [],
      "authorship_tag": "ABX9TyMxPx29sM32XJMWSK1p6rxI",
      "include_colab_link": true
    },
    "kernelspec": {
      "display_name": "Python 3",
      "name": "python3"
    },
    "language_info": {
      "name": "python"
    }
  },
  "cells": [
    {
      "cell_type": "markdown",
      "metadata": {
        "id": "view-in-github",
        "colab_type": "text"
      },
      "source": [
        "<a href=\"https://colab.research.google.com/github/SonramSirirat/data-science-programming/blob/main/Quiz/Quiz3A-Q13_640631037.ipynb\" target=\"_parent\"><img src=\"https://colab.research.google.com/assets/colab-badge.svg\" alt=\"Open In Colab\"/></a>"
      ]
    },
    {
      "cell_type": "markdown",
      "metadata": {
        "id": "7Ystf5Z752gh"
      },
      "source": [
        "# Quiz 13\n",
        "\n",
        "Exercises"
      ]
    },
    {
      "cell_type": "markdown",
      "metadata": {
        "id": "hxv9Wpbb58x3"
      },
      "source": [
        "Ex. 1 Execute the following statements:"
      ]
    },
    {
      "cell_type": "code",
      "metadata": {
        "id": "PUCZUDGD57k-",
        "outputId": "a584a214-19b3-4476-cee7-91305ab42205",
        "colab": {
          "base_uri": "https://localhost:8080/"
        }
      },
      "source": [
        "L = [1, 3] # [1, 3]\n",
        "# L\n",
        "L3 = 3 * L # [1, 3, 1, 3, 1, 3]\n",
        "# L3"
      ],
      "execution_count": 8,
      "outputs": [
        {
          "output_type": "execute_result",
          "data": {
            "text/plain": [
              "[1, 3, 1, 3, 1, 3]"
            ]
          },
          "metadata": {
            "tags": []
          },
          "execution_count": 8
        }
      ]
    },
    {
      "cell_type": "markdown",
      "metadata": {
        "id": "esFfOTZoCLJR"
      },
      "source": [
        "1. What is the contents of L3?"
      ]
    },
    {
      "cell_type": "code",
      "metadata": {
        "colab": {
          "base_uri": "https://localhost:8080/"
        },
        "id": "CJ9ZWiO3CIpU",
        "outputId": "a680bc14-2a6e-4ebb-e233-6cad96e678e3"
      },
      "source": [
        "L3"
      ],
      "execution_count": null,
      "outputs": [
        {
          "output_type": "execute_result",
          "data": {
            "text/plain": [
              "[1, 3, 1, 3, 1, 3]"
            ]
          },
          "metadata": {
            "tags": []
          },
          "execution_count": 2
        }
      ]
    },
    {
      "cell_type": "markdown",
      "metadata": {
        "id": "wwCP_ao9CUyg"
      },
      "source": [
        "2. Try to predic the outcome of the following commands:\n",
        "\n",
        "```\n",
        "L3[0]\n",
        "L3[-1]\n",
        "L3[10]\n",
        "```\n"
      ]
    },
    {
      "cell_type": "markdown",
      "metadata": {
        "id": "mQbmWOgQEoIC"
      },
      "source": [
        "Answer: \n",
        "\n",
        "*   1\n",
        "*   3\n",
        "*   No index 10\n",
        "\n"
      ]
    },
    {
      "cell_type": "markdown",
      "metadata": {
        "id": "R0WPlh6AB6Fb"
      },
      "source": [
        "\n",
        "3. What does the following command do?\n",
        "\n",
        "`L4 = [k ** 2 for k in L3]`"
      ]
    },
    {
      "cell_type": "code",
      "metadata": {
        "colab": {
          "base_uri": "https://localhost:8080/"
        },
        "id": "GMDgtCmJDsA3",
        "outputId": "9c116e0f-ac37-4aa6-d7b7-57039a7e12e9"
      },
      "source": [
        "L4 = [k ** 2 for k in L3]\n",
        "L4"
      ],
      "execution_count": null,
      "outputs": [
        {
          "output_type": "execute_result",
          "data": {
            "text/plain": [
              "[1, 9, 1, 9, 1, 9]"
            ]
          },
          "metadata": {
            "tags": []
          },
          "execution_count": 3
        }
      ]
    },
    {
      "cell_type": "markdown",
      "metadata": {
        "id": "4no8ODWQD4vs"
      },
      "source": [
        "Answer: Loop in each number of L3 members then power by 2 for each number"
      ]
    },
    {
      "cell_type": "markdown",
      "metadata": {
        "id": "YBfmzqEfDqsF"
      },
      "source": [
        "4. Concatenate L3 and L4 to a new list L5."
      ]
    },
    {
      "cell_type": "code",
      "metadata": {
        "colab": {
          "base_uri": "https://localhost:8080/"
        },
        "id": "FvHsE83fEZq0",
        "outputId": "189e3afa-015d-4b65-9cbe-82ced9f17c74"
      },
      "source": [
        "L5 = L3 + L4\n",
        "L5"
      ],
      "execution_count": null,
      "outputs": [
        {
          "output_type": "execute_result",
          "data": {
            "text/plain": [
              "[1, 3, 1, 3, 1, 3, 1, 9, 1, 9, 1, 9]"
            ]
          },
          "metadata": {
            "tags": []
          },
          "execution_count": 4
        }
      ]
    }
  ]
}