{
  "nbformat": 4,
  "nbformat_minor": 0,
  "metadata": {
    "colab": {
      "name": "Homework01-640631037.ipynb",
      "provenance": [],
      "authorship_tag": "ABX9TyNEWBBb9eb+2hU2wKaTGEQM",
      "include_colab_link": true
    },
    "kernelspec": {
      "name": "python3",
      "display_name": "Python 3"
    },
    "language_info": {
      "name": "python"
    }
  },
  "cells": [
    {
      "cell_type": "markdown",
      "metadata": {
        "id": "view-in-github",
        "colab_type": "text"
      },
      "source": [
        "<a href=\"https://colab.research.google.com/github/SonramSirirat/data-science-programming/blob/main/Homework01_640631037.ipynb\" target=\"_parent\"><img src=\"https://colab.research.google.com/assets/colab-badge.svg\" alt=\"Open In Colab\"/></a>"
      ]
    },
    {
      "cell_type": "markdown",
      "metadata": {
        "id": "YgEKQe2oM2SL"
      },
      "source": [
        "# Homework 01\n",
        "**Write the python program : \"Take (x) sticks from the pile\"** 🍡\n",
        "\n",
        "*   There are N sticks in the pile.\n",
        "*   You are the player to take (x) sticks from the pile.\n",
        "*   The number of sticks (x) at each time you can take must be <= 2.\n",
        "*   Loop until there are no stick in the pile.\n",
        "*   Display how many times you take the stick out.\n",
        "\n",
        "**Test Case:**\n",
        "\n",
        "How many sticks (N) in the pile: 3\n",
        "\n",
        "There are 3 sticks in the pile.\n",
        "\n",
        "What is your name :Somchai\n",
        "\n",
        "Somchai, how many sticks you will take (1 or 2): 2\n",
        "\n",
        "There are 1 sticks in the pile.\n",
        "\n",
        "Somchai, how many sticks you will take (1 or 2): 3\n",
        "\n",
        "Noyou cannot take more than 2 sticks! ❗\n",
        "\n",
        "Somchai, how many sticks you will take (1 or 2): -1\n",
        "\n",
        "Noyou cannot take less than 1 stick! ❗\n",
        "\n",
        "Somchai, how many sticks you will take (1 or 2): 2\n",
        "\n",
        "There are no enoughsticks to take. ❗\n",
        "\n",
        "Somchai, how many sticks you will take (1 or 2): 1OK. \n",
        "\n",
        "There is no stick left in the pile. \n",
        "\n",
        "You spent 2 times.\n",
        "\n",
        "\n",
        "\n",
        "\n",
        "\n",
        "\n"
      ]
    },
    {
      "cell_type": "code",
      "metadata": {
        "id": "_ZjY0GffHgeG",
        "colab": {
          "base_uri": "https://localhost:8080/"
        },
        "outputId": "80b398b2-17ee-4a8c-b474-9a4c07923dec"
      },
      "source": [
        "1+1"
      ],
      "execution_count": null,
      "outputs": [
        {
          "output_type": "execute_result",
          "data": {
            "text/plain": [
              "2"
            ]
          },
          "metadata": {
            "tags": []
          },
          "execution_count": 1
        }
      ]
    }
  ]
}