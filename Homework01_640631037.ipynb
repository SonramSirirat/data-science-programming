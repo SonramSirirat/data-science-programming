{
  "nbformat": 4,
  "nbformat_minor": 0,
  "metadata": {
    "colab": {
      "name": "Homework01-640631037.ipynb",
      "provenance": [],
      "collapsed_sections": [],
      "authorship_tag": "ABX9TyMH4emeLNjrOOGG6BIOXd/T",
      "include_colab_link": true
    },
    "kernelspec": {
      "name": "python3",
      "display_name": "Python 3"
    },
    "language_info": {
      "name": "python"
    }
  },
  "cells": [
    {
      "cell_type": "markdown",
      "metadata": {
        "id": "view-in-github",
        "colab_type": "text"
      },
      "source": [
        "<a href=\"https://colab.research.google.com/github/SonramSirirat/data-science-programming/blob/main/Homework01_640631037.ipynb\" target=\"_parent\"><img src=\"https://colab.research.google.com/assets/colab-badge.svg\" alt=\"Open In Colab\"/></a>"
      ]
    },
    {
      "cell_type": "markdown",
      "metadata": {
        "id": "YgEKQe2oM2SL"
      },
      "source": [
        "# Homework 01\n",
        "**Write the python program : \"Take (x) sticks from the pile\"** 🍡\n",
        "\n",
        "*   There are N sticks in the pile.\n",
        "*   You are the player to take (x) sticks from the pile.\n",
        "*   The number of sticks (x) at each time you can take must be <= 2.\n",
        "*   Loop until there are no stick in the pile.\n",
        "*   Display how many times you take the stick out.\n",
        "\n",
        "**Test Case:**\n",
        "\n",
        "How many sticks (N) in the pile: 3\n",
        "\n",
        "There are 3 sticks in the pile.\n",
        "\n",
        "What is your name: Somchai\n",
        "\n",
        "Somchai, how many sticks you will take (1 or 2): 2\n",
        "\n",
        "There are 1 sticks in the pile.\n",
        "\n",
        "Somchai, how many sticks you will take (1 or 2): 3\n",
        "\n",
        "No you cannot take more than 2 sticks! ❗\n",
        "\n",
        "Somchai, how many sticks you will take (1 or 2): -1\n",
        "\n",
        "No you cannot take less than 1 stick! ❗\n",
        "\n",
        "Somchai, how many sticks you will take (1 or 2): 2\n",
        "\n",
        "There are no enough sticks to take! ❗\n",
        "\n",
        "Somchai, how many sticks you will take (1 or 2): 1\n",
        "\n",
        "OK. There is no stick left in the pile. \n",
        "\n",
        "You spent 2 times.\n",
        "\n",
        "\n",
        "\n",
        "\n",
        "\n",
        "\n"
      ]
    },
    {
      "cell_type": "code",
      "metadata": {
        "colab": {
          "base_uri": "https://localhost:8080/"
        },
        "id": "_jBSnYEWN64W",
        "outputId": "691a1c5a-2390-43cc-94a2-8cc0e3ff4363"
      },
      "source": [
        "# Number of sticks\n",
        "stick = int(input(\"How many sticks (N) in the pile: \"))\n",
        "# Player's name\n",
        "# name = str(input(\"What is your name: \"))\n",
        "while stick <= 0:\n",
        "  # Check if stick less than 0\n",
        "  print(\"Stick cannot less than 0 stick!\")\n",
        "  stick = int(input(\"How many sticks (N) in the pile: \"))\n",
        "print(\"There are\", stick, \"sticks in the pile🍡.\")\n",
        "\n",
        "times = 0\n",
        "take = int(input(\"How many sticks you will take (1 or 2): \"))\n",
        "while stick >= 1:\n",
        "  if take == 1 or take == 2:\n",
        "    stick = stick - take\n",
        "    times =+ 1\n",
        "    if stick > 0:\n",
        "      print(\"There are\", stick, \"sticks in the pile.🍡\")\n",
        "  elif take >= 3: # if take greater then or equal to 3\n",
        "    print(\"No you cannot take more than 2 sticks❗\")\n",
        "    take = int(input(\"How many sticks you will take (1 or 2): \"))\n",
        "  elif take <= 0: # if take less then or equal to 0\n",
        "    print(\"No you cannot take less then 1 stick❗\")\n",
        "    take = int(input(\"How many sticks you will take (1 or 2): \"))\n",
        "  else:\n",
        "    print(\"There are no enough sticks to take❗\")\n",
        "    take = int(input(\"How many sticks you will take (1 or 2): \"))\n",
        "\n",
        "print(\"You spent\", times, \"times.⏲\")\n",
        "print(\"OK. There is no stick left in the pile.🎉\")\n",
        "# [0]    ✅\n",
        "# [-1]   ✅\n",
        "# [1 ,-1]✅\n",
        "# [1 , 0]✅\n",
        "# [1 , 1]✅\n",
        "# [1 , 2]✅\n",
        "# [1 , 3]✅\n",
        "# [2 , 0]✅\n",
        "# [2 , 1]❌\n",
        "# [2 , 2]✅"
      ],
      "execution_count": 9,
      "outputs": [
        {
          "output_type": "stream",
          "text": [
            "How many sticks (N) in the pile: 2\n",
            "There are 2 sticks in the pile🍡.\n",
            "How many sticks you will take (1 or 2): 2\n",
            "You spent 1 times.⏲\n",
            "OK. There is no stick left in the pile.🎉\n"
          ],
          "name": "stdout"
        }
      ]
    }
  ]
}