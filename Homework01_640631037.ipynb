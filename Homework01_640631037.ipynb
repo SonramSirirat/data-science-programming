{
  "nbformat": 4,
  "nbformat_minor": 0,
  "metadata": {
    "colab": {
      "name": "Homework01-640631037.ipynb",
      "provenance": [],
      "collapsed_sections": [],
      "authorship_tag": "ABX9TyMch6L3VxE1s49QfbiIiUO/",
      "include_colab_link": true
    },
    "kernelspec": {
      "name": "python3",
      "display_name": "Python 3"
    },
    "language_info": {
      "name": "python"
    }
  },
  "cells": [
    {
      "cell_type": "markdown",
      "metadata": {
        "id": "view-in-github",
        "colab_type": "text"
      },
      "source": [
        "<a href=\"https://colab.research.google.com/github/SonramSirirat/data-science-programming/blob/main/Homework01_640631037.ipynb\" target=\"_parent\"><img src=\"https://colab.research.google.com/assets/colab-badge.svg\" alt=\"Open In Colab\"/></a>"
      ]
    },
    {
      "cell_type": "markdown",
      "metadata": {
        "id": "YgEKQe2oM2SL"
      },
      "source": [
        "# Homework 01\n",
        "**Write the python program : \"Take (x) sticks from the pile\"** 🍡\n",
        "\n",
        "*   There are N sticks in the pile.\n",
        "*   You are the player to take (x) sticks from the pile.\n",
        "*   The number of sticks (x) at each time you can take must be <= 2.\n",
        "*   Loop until there are no stick in the pile.\n",
        "*   Display how many times you take the stick out.\n",
        "\n",
        "**Test Case:**\n",
        "\n",
        "How many sticks (N) in the pile: 3\n",
        "\n",
        "There are 3 sticks in the pile.\n",
        "\n",
        "What is your name: Somchai\n",
        "\n",
        "Somchai, how many sticks you will take (1 or 2): 2\n",
        "\n",
        "There are 1 sticks in the pile.\n",
        "\n",
        "Somchai, how many sticks you will take (1 or 2): 3\n",
        "\n",
        "No you cannot take more than 2 sticks! ❗\n",
        "\n",
        "Somchai, how many sticks you will take (1 or 2): -1\n",
        "\n",
        "No you cannot take less than 1 stick! ❗\n",
        "\n",
        "Somchai, how many sticks you will take (1 or 2): 2\n",
        "\n",
        "There are no enoughsticks to take! ❗\n",
        "\n",
        "Somchai, how many sticks you will take (1 or 2): 1\n",
        "\n",
        "OK. There is no stick left in the pile. \n",
        "\n",
        "You spent 2 times.\n",
        "\n",
        "\n",
        "\n",
        "\n",
        "\n",
        "\n"
      ]
    },
    {
      "cell_type": "code",
      "metadata": {
        "id": "_ZjY0GffHgeG"
      },
      "source": [
        "# Number of sticks\n",
        "# N = 0\n",
        "# while N <= 0:\n",
        "#   N = int(input(\"How many sticks (N) in the pile: \"))\n",
        "# print (\"There are\", N, \"sticks in the pile.\")\n",
        "\n",
        "# Player's name\n",
        "# name = str(input(\"What is your name: \"))\n",
        "\n",
        "N = 3\n",
        "pick = int(input(\"How many sticks you will take (1 or 2): \"))\n",
        "\n",
        "if pick >= 3:\n",
        "  print(\"No you cannot take more than 2 sticks!\")\n",
        "elif pick <= 0:\n",
        "  print(\"No you cannot take less than 1 stick!\")\n",
        "elif pick > 1:\n",
        "  print(\"There are no enough sticks to take!\")\n",
        "else:\n",
        "  for pick in range(N):\n",
        "    print(\"OK. There is no stick left in the pile.\")\n",
        "\n",
        "# for x in range(6):\n",
        "#   if x == 3: break\n",
        "#   print(x)\n",
        "# else:\n",
        "#   print(\"Finally finished!\")"
      ],
      "execution_count": 63,
      "outputs": []
    }
  ]
}